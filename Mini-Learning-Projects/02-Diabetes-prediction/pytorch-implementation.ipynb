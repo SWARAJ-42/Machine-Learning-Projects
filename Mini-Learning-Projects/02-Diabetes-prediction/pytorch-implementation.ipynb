{
 "cells": [
  {
   "cell_type": "markdown",
   "metadata": {},
   "source": [
    "## Importing the Dependencies"
   ]
  },
  {
   "cell_type": "code",
   "execution_count": 9,
   "metadata": {},
   "outputs": [],
   "source": [
    "import numpy as np\n",
    "import pandas as pd\n",
    "import torch\n",
    "import torch.nn as nn\n",
    "import torch.optim as optim\n",
    "\n",
    "from sklearn.model_selection import train_test_split"
   ]
  },
  {
   "cell_type": "markdown",
   "metadata": {},
   "source": [
    "## Data extraction and preprocessing\n",
    "\n",
    "### PIMA diabetes dataset is being used"
   ]
  },
  {
   "cell_type": "code",
   "execution_count": 10,
   "metadata": {},
   "outputs": [
    {
     "data": {
      "text/html": [
       "<div>\n",
       "<style scoped>\n",
       "    .dataframe tbody tr th:only-of-type {\n",
       "        vertical-align: middle;\n",
       "    }\n",
       "\n",
       "    .dataframe tbody tr th {\n",
       "        vertical-align: top;\n",
       "    }\n",
       "\n",
       "    .dataframe thead th {\n",
       "        text-align: right;\n",
       "    }\n",
       "</style>\n",
       "<table border=\"1\" class=\"dataframe\">\n",
       "  <thead>\n",
       "    <tr style=\"text-align: right;\">\n",
       "      <th></th>\n",
       "      <th>Pregnancies</th>\n",
       "      <th>Glucose</th>\n",
       "      <th>BloodPressure</th>\n",
       "      <th>SkinThickness</th>\n",
       "      <th>Insulin</th>\n",
       "      <th>BMI</th>\n",
       "      <th>DiabetesPedigreeFunction</th>\n",
       "      <th>Age</th>\n",
       "      <th>Outcome</th>\n",
       "    </tr>\n",
       "  </thead>\n",
       "  <tbody>\n",
       "    <tr>\n",
       "      <th>0</th>\n",
       "      <td>6</td>\n",
       "      <td>148</td>\n",
       "      <td>72</td>\n",
       "      <td>35</td>\n",
       "      <td>0</td>\n",
       "      <td>33.6</td>\n",
       "      <td>0.627</td>\n",
       "      <td>50</td>\n",
       "      <td>1</td>\n",
       "    </tr>\n",
       "    <tr>\n",
       "      <th>1</th>\n",
       "      <td>1</td>\n",
       "      <td>85</td>\n",
       "      <td>66</td>\n",
       "      <td>29</td>\n",
       "      <td>0</td>\n",
       "      <td>26.6</td>\n",
       "      <td>0.351</td>\n",
       "      <td>31</td>\n",
       "      <td>0</td>\n",
       "    </tr>\n",
       "    <tr>\n",
       "      <th>2</th>\n",
       "      <td>8</td>\n",
       "      <td>183</td>\n",
       "      <td>64</td>\n",
       "      <td>0</td>\n",
       "      <td>0</td>\n",
       "      <td>23.3</td>\n",
       "      <td>0.672</td>\n",
       "      <td>32</td>\n",
       "      <td>1</td>\n",
       "    </tr>\n",
       "    <tr>\n",
       "      <th>3</th>\n",
       "      <td>1</td>\n",
       "      <td>89</td>\n",
       "      <td>66</td>\n",
       "      <td>23</td>\n",
       "      <td>94</td>\n",
       "      <td>28.1</td>\n",
       "      <td>0.167</td>\n",
       "      <td>21</td>\n",
       "      <td>0</td>\n",
       "    </tr>\n",
       "    <tr>\n",
       "      <th>4</th>\n",
       "      <td>0</td>\n",
       "      <td>137</td>\n",
       "      <td>40</td>\n",
       "      <td>35</td>\n",
       "      <td>168</td>\n",
       "      <td>43.1</td>\n",
       "      <td>2.288</td>\n",
       "      <td>33</td>\n",
       "      <td>1</td>\n",
       "    </tr>\n",
       "  </tbody>\n",
       "</table>\n",
       "</div>"
      ],
      "text/plain": [
       "   Pregnancies  Glucose  BloodPressure  SkinThickness  Insulin   BMI  \\\n",
       "0            6      148             72             35        0  33.6   \n",
       "1            1       85             66             29        0  26.6   \n",
       "2            8      183             64              0        0  23.3   \n",
       "3            1       89             66             23       94  28.1   \n",
       "4            0      137             40             35      168  43.1   \n",
       "\n",
       "   DiabetesPedigreeFunction  Age  Outcome  \n",
       "0                     0.627   50        1  \n",
       "1                     0.351   31        0  \n",
       "2                     0.672   32        1  \n",
       "3                     0.167   21        0  \n",
       "4                     2.288   33        1  "
      ]
     },
     "execution_count": 10,
     "metadata": {},
     "output_type": "execute_result"
    }
   ],
   "source": [
    "diabetes_df = pd.read_csv('diabetes.csv')\n",
    "diabetes_df - diabetes_df.sample(n = len(diabetes_df)) # shuffling the data\n",
    "diabetes_df.head() # How the data looks"
   ]
  },
  {
   "cell_type": "code",
   "execution_count": 11,
   "metadata": {},
   "outputs": [
    {
     "data": {
      "text/plain": [
       "Pregnancies                 0\n",
       "Glucose                     0\n",
       "BloodPressure               0\n",
       "SkinThickness               0\n",
       "Insulin                     0\n",
       "BMI                         0\n",
       "DiabetesPedigreeFunction    0\n",
       "Age                         0\n",
       "Outcome                     0\n",
       "dtype: int64"
      ]
     },
     "execution_count": 11,
     "metadata": {},
     "output_type": "execute_result"
    }
   ],
   "source": [
    "# Checking for N/A values\n",
    "diabetes_df.isna().sum()"
   ]
  },
  {
   "cell_type": "code",
   "execution_count": 12,
   "metadata": {},
   "outputs": [
    {
     "data": {
      "text/html": [
       "<div>\n",
       "<style scoped>\n",
       "    .dataframe tbody tr th:only-of-type {\n",
       "        vertical-align: middle;\n",
       "    }\n",
       "\n",
       "    .dataframe tbody tr th {\n",
       "        vertical-align: top;\n",
       "    }\n",
       "\n",
       "    .dataframe thead th {\n",
       "        text-align: right;\n",
       "    }\n",
       "</style>\n",
       "<table border=\"1\" class=\"dataframe\">\n",
       "  <thead>\n",
       "    <tr style=\"text-align: right;\">\n",
       "      <th></th>\n",
       "      <th>Pregnancies</th>\n",
       "      <th>Glucose</th>\n",
       "      <th>BloodPressure</th>\n",
       "      <th>SkinThickness</th>\n",
       "      <th>Insulin</th>\n",
       "      <th>BMI</th>\n",
       "      <th>DiabetesPedigreeFunction</th>\n",
       "      <th>Age</th>\n",
       "      <th>Outcome</th>\n",
       "    </tr>\n",
       "  </thead>\n",
       "  <tbody>\n",
       "    <tr>\n",
       "      <th>count</th>\n",
       "      <td>768.000000</td>\n",
       "      <td>768.000000</td>\n",
       "      <td>768.000000</td>\n",
       "      <td>768.000000</td>\n",
       "      <td>768.000000</td>\n",
       "      <td>768.000000</td>\n",
       "      <td>768.000000</td>\n",
       "      <td>768.000000</td>\n",
       "      <td>768.000000</td>\n",
       "    </tr>\n",
       "    <tr>\n",
       "      <th>mean</th>\n",
       "      <td>3.845052</td>\n",
       "      <td>120.894531</td>\n",
       "      <td>69.105469</td>\n",
       "      <td>20.536458</td>\n",
       "      <td>79.799479</td>\n",
       "      <td>31.992578</td>\n",
       "      <td>0.471876</td>\n",
       "      <td>33.240885</td>\n",
       "      <td>0.348958</td>\n",
       "    </tr>\n",
       "    <tr>\n",
       "      <th>std</th>\n",
       "      <td>3.369578</td>\n",
       "      <td>31.972618</td>\n",
       "      <td>19.355807</td>\n",
       "      <td>15.952218</td>\n",
       "      <td>115.244002</td>\n",
       "      <td>7.884160</td>\n",
       "      <td>0.331329</td>\n",
       "      <td>11.760232</td>\n",
       "      <td>0.476951</td>\n",
       "    </tr>\n",
       "    <tr>\n",
       "      <th>min</th>\n",
       "      <td>0.000000</td>\n",
       "      <td>0.000000</td>\n",
       "      <td>0.000000</td>\n",
       "      <td>0.000000</td>\n",
       "      <td>0.000000</td>\n",
       "      <td>0.000000</td>\n",
       "      <td>0.078000</td>\n",
       "      <td>21.000000</td>\n",
       "      <td>0.000000</td>\n",
       "    </tr>\n",
       "    <tr>\n",
       "      <th>25%</th>\n",
       "      <td>1.000000</td>\n",
       "      <td>99.000000</td>\n",
       "      <td>62.000000</td>\n",
       "      <td>0.000000</td>\n",
       "      <td>0.000000</td>\n",
       "      <td>27.300000</td>\n",
       "      <td>0.243750</td>\n",
       "      <td>24.000000</td>\n",
       "      <td>0.000000</td>\n",
       "    </tr>\n",
       "    <tr>\n",
       "      <th>50%</th>\n",
       "      <td>3.000000</td>\n",
       "      <td>117.000000</td>\n",
       "      <td>72.000000</td>\n",
       "      <td>23.000000</td>\n",
       "      <td>30.500000</td>\n",
       "      <td>32.000000</td>\n",
       "      <td>0.372500</td>\n",
       "      <td>29.000000</td>\n",
       "      <td>0.000000</td>\n",
       "    </tr>\n",
       "    <tr>\n",
       "      <th>75%</th>\n",
       "      <td>6.000000</td>\n",
       "      <td>140.250000</td>\n",
       "      <td>80.000000</td>\n",
       "      <td>32.000000</td>\n",
       "      <td>127.250000</td>\n",
       "      <td>36.600000</td>\n",
       "      <td>0.626250</td>\n",
       "      <td>41.000000</td>\n",
       "      <td>1.000000</td>\n",
       "    </tr>\n",
       "    <tr>\n",
       "      <th>max</th>\n",
       "      <td>17.000000</td>\n",
       "      <td>199.000000</td>\n",
       "      <td>122.000000</td>\n",
       "      <td>99.000000</td>\n",
       "      <td>846.000000</td>\n",
       "      <td>67.100000</td>\n",
       "      <td>2.420000</td>\n",
       "      <td>81.000000</td>\n",
       "      <td>1.000000</td>\n",
       "    </tr>\n",
       "  </tbody>\n",
       "</table>\n",
       "</div>"
      ],
      "text/plain": [
       "       Pregnancies     Glucose  BloodPressure  SkinThickness     Insulin  \\\n",
       "count   768.000000  768.000000     768.000000     768.000000  768.000000   \n",
       "mean      3.845052  120.894531      69.105469      20.536458   79.799479   \n",
       "std       3.369578   31.972618      19.355807      15.952218  115.244002   \n",
       "min       0.000000    0.000000       0.000000       0.000000    0.000000   \n",
       "25%       1.000000   99.000000      62.000000       0.000000    0.000000   \n",
       "50%       3.000000  117.000000      72.000000      23.000000   30.500000   \n",
       "75%       6.000000  140.250000      80.000000      32.000000  127.250000   \n",
       "max      17.000000  199.000000     122.000000      99.000000  846.000000   \n",
       "\n",
       "              BMI  DiabetesPedigreeFunction         Age     Outcome  \n",
       "count  768.000000                768.000000  768.000000  768.000000  \n",
       "mean    31.992578                  0.471876   33.240885    0.348958  \n",
       "std      7.884160                  0.331329   11.760232    0.476951  \n",
       "min      0.000000                  0.078000   21.000000    0.000000  \n",
       "25%     27.300000                  0.243750   24.000000    0.000000  \n",
       "50%     32.000000                  0.372500   29.000000    0.000000  \n",
       "75%     36.600000                  0.626250   41.000000    1.000000  \n",
       "max     67.100000                  2.420000   81.000000    1.000000  "
      ]
     },
     "execution_count": 12,
     "metadata": {},
     "output_type": "execute_result"
    }
   ],
   "source": [
    "diabetes_df.describe() # statistical measures of the data"
   ]
  },
  {
   "cell_type": "code",
   "execution_count": 13,
   "metadata": {},
   "outputs": [
    {
     "name": "stdout",
     "output_type": "stream",
     "text": [
      "Outcomes distributions 1-diabetic, 0-non-diabetic: \n",
      " Outcome\n",
      "0    500\n",
      "1    268\n",
      "Name: count, dtype: int64\n",
      "--------------------------------------------------\n"
     ]
    },
    {
     "data": {
      "text/html": [
       "<div>\n",
       "<style scoped>\n",
       "    .dataframe tbody tr th:only-of-type {\n",
       "        vertical-align: middle;\n",
       "    }\n",
       "\n",
       "    .dataframe tbody tr th {\n",
       "        vertical-align: top;\n",
       "    }\n",
       "\n",
       "    .dataframe thead th {\n",
       "        text-align: right;\n",
       "    }\n",
       "</style>\n",
       "<table border=\"1\" class=\"dataframe\">\n",
       "  <thead>\n",
       "    <tr style=\"text-align: right;\">\n",
       "      <th></th>\n",
       "      <th>Pregnancies</th>\n",
       "      <th>Glucose</th>\n",
       "      <th>BloodPressure</th>\n",
       "      <th>SkinThickness</th>\n",
       "      <th>Insulin</th>\n",
       "      <th>BMI</th>\n",
       "      <th>DiabetesPedigreeFunction</th>\n",
       "      <th>Age</th>\n",
       "    </tr>\n",
       "    <tr>\n",
       "      <th>Outcome</th>\n",
       "      <th></th>\n",
       "      <th></th>\n",
       "      <th></th>\n",
       "      <th></th>\n",
       "      <th></th>\n",
       "      <th></th>\n",
       "      <th></th>\n",
       "      <th></th>\n",
       "    </tr>\n",
       "  </thead>\n",
       "  <tbody>\n",
       "    <tr>\n",
       "      <th>0</th>\n",
       "      <td>3.298000</td>\n",
       "      <td>109.980000</td>\n",
       "      <td>68.184000</td>\n",
       "      <td>19.664000</td>\n",
       "      <td>68.792000</td>\n",
       "      <td>30.304200</td>\n",
       "      <td>0.429734</td>\n",
       "      <td>31.190000</td>\n",
       "    </tr>\n",
       "    <tr>\n",
       "      <th>1</th>\n",
       "      <td>4.865672</td>\n",
       "      <td>141.257463</td>\n",
       "      <td>70.824627</td>\n",
       "      <td>22.164179</td>\n",
       "      <td>100.335821</td>\n",
       "      <td>35.142537</td>\n",
       "      <td>0.550500</td>\n",
       "      <td>37.067164</td>\n",
       "    </tr>\n",
       "  </tbody>\n",
       "</table>\n",
       "</div>"
      ],
      "text/plain": [
       "         Pregnancies     Glucose  BloodPressure  SkinThickness     Insulin  \\\n",
       "Outcome                                                                      \n",
       "0           3.298000  109.980000      68.184000      19.664000   68.792000   \n",
       "1           4.865672  141.257463      70.824627      22.164179  100.335821   \n",
       "\n",
       "               BMI  DiabetesPedigreeFunction        Age  \n",
       "Outcome                                                  \n",
       "0        30.304200                  0.429734  31.190000  \n",
       "1        35.142537                  0.550500  37.067164  "
      ]
     },
     "execution_count": 13,
     "metadata": {},
     "output_type": "execute_result"
    }
   ],
   "source": [
    "# Lets count and group the dataframe rows by the targets to get a sense of feature influence and data distributions\n",
    "print(\"Outcomes distributions 1-diabetic, 0-non-diabetic: \\n\",diabetes_df['Outcome'].value_counts())\n",
    "\n",
    "print('-'*50)\n",
    "\n",
    "diabetes_df.groupby('Outcome').mean()"
   ]
  },
  {
   "cell_type": "code",
   "execution_count": 14,
   "metadata": {},
   "outputs": [
    {
     "data": {
      "text/plain": [
       "((768, 8), (768,))"
      ]
     },
     "execution_count": 14,
     "metadata": {},
     "output_type": "execute_result"
    }
   ],
   "source": [
    "# Preparing values and target\n",
    "X = diabetes_df.drop('Outcome', axis=1)\n",
    "y = diabetes_df['Outcome']\n",
    "\n",
    "X.shape, y.shape"
   ]
  },
  {
   "cell_type": "code",
   "execution_count": 15,
   "metadata": {},
   "outputs": [
    {
     "data": {
      "text/html": [
       "<div>\n",
       "<style scoped>\n",
       "    .dataframe tbody tr th:only-of-type {\n",
       "        vertical-align: middle;\n",
       "    }\n",
       "\n",
       "    .dataframe tbody tr th {\n",
       "        vertical-align: top;\n",
       "    }\n",
       "\n",
       "    .dataframe thead th {\n",
       "        text-align: right;\n",
       "    }\n",
       "</style>\n",
       "<table border=\"1\" class=\"dataframe\">\n",
       "  <thead>\n",
       "    <tr style=\"text-align: right;\">\n",
       "      <th></th>\n",
       "      <th>Pregnancies</th>\n",
       "      <th>Glucose</th>\n",
       "      <th>BloodPressure</th>\n",
       "      <th>SkinThickness</th>\n",
       "      <th>Insulin</th>\n",
       "      <th>BMI</th>\n",
       "      <th>DiabetesPedigreeFunction</th>\n",
       "      <th>Age</th>\n",
       "    </tr>\n",
       "  </thead>\n",
       "  <tbody>\n",
       "    <tr>\n",
       "      <th>count</th>\n",
       "      <td>7.680000e+02</td>\n",
       "      <td>7.680000e+02</td>\n",
       "      <td>7.680000e+02</td>\n",
       "      <td>7.680000e+02</td>\n",
       "      <td>7.680000e+02</td>\n",
       "      <td>7.680000e+02</td>\n",
       "      <td>7.680000e+02</td>\n",
       "      <td>7.680000e+02</td>\n",
       "    </tr>\n",
       "    <tr>\n",
       "      <th>mean</th>\n",
       "      <td>-7.864080e-17</td>\n",
       "      <td>-1.156482e-17</td>\n",
       "      <td>1.272131e-17</td>\n",
       "      <td>3.816392e-17</td>\n",
       "      <td>-4.972874e-17</td>\n",
       "      <td>2.659909e-16</td>\n",
       "      <td>2.451743e-16</td>\n",
       "      <td>2.035409e-16</td>\n",
       "    </tr>\n",
       "    <tr>\n",
       "      <th>std</th>\n",
       "      <td>1.000000e+00</td>\n",
       "      <td>1.000000e+00</td>\n",
       "      <td>1.000000e+00</td>\n",
       "      <td>1.000000e+00</td>\n",
       "      <td>1.000000e+00</td>\n",
       "      <td>1.000000e+00</td>\n",
       "      <td>1.000000e+00</td>\n",
       "      <td>1.000000e+00</td>\n",
       "    </tr>\n",
       "    <tr>\n",
       "      <th>min</th>\n",
       "      <td>-1.141108e+00</td>\n",
       "      <td>-3.781190e+00</td>\n",
       "      <td>-3.570271e+00</td>\n",
       "      <td>-1.287373e+00</td>\n",
       "      <td>-6.924393e-01</td>\n",
       "      <td>-4.057829e+00</td>\n",
       "      <td>-1.188778e+00</td>\n",
       "      <td>-1.040871e+00</td>\n",
       "    </tr>\n",
       "    <tr>\n",
       "      <th>25%</th>\n",
       "      <td>-8.443348e-01</td>\n",
       "      <td>-6.847901e-01</td>\n",
       "      <td>-3.670975e-01</td>\n",
       "      <td>-1.287373e+00</td>\n",
       "      <td>-6.924393e-01</td>\n",
       "      <td>-5.951906e-01</td>\n",
       "      <td>-6.885198e-01</td>\n",
       "      <td>-7.857741e-01</td>\n",
       "    </tr>\n",
       "    <tr>\n",
       "      <th>50%</th>\n",
       "      <td>-2.507887e-01</td>\n",
       "      <td>-1.218083e-01</td>\n",
       "      <td>1.495433e-01</td>\n",
       "      <td>1.544326e-01</td>\n",
       "      <td>-4.277835e-01</td>\n",
       "      <td>9.413653e-04</td>\n",
       "      <td>-2.999328e-01</td>\n",
       "      <td>-3.606124e-01</td>\n",
       "    </tr>\n",
       "    <tr>\n",
       "      <th>75%</th>\n",
       "      <td>6.395305e-01</td>\n",
       "      <td>6.053764e-01</td>\n",
       "      <td>5.628560e-01</td>\n",
       "      <td>7.186174e-01</td>\n",
       "      <td>4.117396e-01</td>\n",
       "      <td>5.843897e-01</td>\n",
       "      <td>4.659233e-01</td>\n",
       "      <td>6.597757e-01</td>\n",
       "    </tr>\n",
       "    <tr>\n",
       "      <th>max</th>\n",
       "      <td>3.904034e+00</td>\n",
       "      <td>2.442886e+00</td>\n",
       "      <td>2.732747e+00</td>\n",
       "      <td>4.918660e+00</td>\n",
       "      <td>6.648507e+00</td>\n",
       "      <td>4.452906e+00</td>\n",
       "      <td>5.879733e+00</td>\n",
       "      <td>4.061069e+00</td>\n",
       "    </tr>\n",
       "  </tbody>\n",
       "</table>\n",
       "</div>"
      ],
      "text/plain": [
       "        Pregnancies       Glucose  BloodPressure  SkinThickness       Insulin  \\\n",
       "count  7.680000e+02  7.680000e+02   7.680000e+02   7.680000e+02  7.680000e+02   \n",
       "mean  -7.864080e-17 -1.156482e-17   1.272131e-17   3.816392e-17 -4.972874e-17   \n",
       "std    1.000000e+00  1.000000e+00   1.000000e+00   1.000000e+00  1.000000e+00   \n",
       "min   -1.141108e+00 -3.781190e+00  -3.570271e+00  -1.287373e+00 -6.924393e-01   \n",
       "25%   -8.443348e-01 -6.847901e-01  -3.670975e-01  -1.287373e+00 -6.924393e-01   \n",
       "50%   -2.507887e-01 -1.218083e-01   1.495433e-01   1.544326e-01 -4.277835e-01   \n",
       "75%    6.395305e-01  6.053764e-01   5.628560e-01   7.186174e-01  4.117396e-01   \n",
       "max    3.904034e+00  2.442886e+00   2.732747e+00   4.918660e+00  6.648507e+00   \n",
       "\n",
       "                BMI  DiabetesPedigreeFunction           Age  \n",
       "count  7.680000e+02              7.680000e+02  7.680000e+02  \n",
       "mean   2.659909e-16              2.451743e-16  2.035409e-16  \n",
       "std    1.000000e+00              1.000000e+00  1.000000e+00  \n",
       "min   -4.057829e+00             -1.188778e+00 -1.040871e+00  \n",
       "25%   -5.951906e-01             -6.885198e-01 -7.857741e-01  \n",
       "50%    9.413653e-04             -2.999328e-01 -3.606124e-01  \n",
       "75%    5.843897e-01              4.659233e-01  6.597757e-01  \n",
       "max    4.452906e+00              5.879733e+00  4.061069e+00  "
      ]
     },
     "execution_count": 15,
     "metadata": {},
     "output_type": "execute_result"
    }
   ],
   "source": [
    "# Normalization to prevent unwanted influence of a particular feature\n",
    "X_norm=(X-X.mean())/X.std() # this remains a pd dataframe\n",
    "X_norm.describe()"
   ]
  },
  {
   "cell_type": "markdown",
   "metadata": {},
   "source": [
    "## Preparing Train and Test splits"
   ]
  },
  {
   "cell_type": "code",
   "execution_count": 16,
   "metadata": {},
   "outputs": [
    {
     "name": "stdout",
     "output_type": "stream",
     "text": [
      "(768, 8) (614, 8) (154, 8)\n"
     ]
    }
   ],
   "source": [
    "X_train, X_test, Y_train, Y_test = train_test_split(X,y, test_size = 0.2, stratify=y, random_state=2)\n",
    "\n",
    "print(X.shape, X_train.shape, X_test.shape)"
   ]
  },
  {
   "cell_type": "code",
   "execution_count": 29,
   "metadata": {},
   "outputs": [
    {
     "data": {
      "text/plain": [
       "(torch.Size([614, 8]),\n",
       " torch.Size([614, 1]),\n",
       " torch.Size([154, 8]),\n",
       " torch.Size([154, 1]))"
      ]
     },
     "execution_count": 29,
     "metadata": {},
     "output_type": "execute_result"
    }
   ],
   "source": [
    "# Transforming dataset to tensors suitable for pytorch\n",
    "X_train_tensor = torch.from_numpy(X_train.to_numpy()).float()\n",
    "X_test_tensor = torch.from_numpy(X_test.to_numpy()).float()\n",
    "Y_train_tensor = torch.from_numpy(Y_train.to_numpy()).reshape(-1, 1).float()\n",
    "Y_test_tensor = torch.from_numpy(Y_test.to_numpy()).reshape(-1, 1).float()\n",
    "\n",
    "X_train_tensor.shape, Y_train_tensor.shape, X_test_tensor.shape, Y_test_tensor.shape"
   ]
  },
  {
   "cell_type": "markdown",
   "metadata": {},
   "source": [
    "## Model preparation and training"
   ]
  },
  {
   "cell_type": "code",
   "execution_count": 32,
   "metadata": {},
   "outputs": [
    {
     "name": "stdout",
     "output_type": "stream",
     "text": [
      "DiabetesClassifier(\n",
      "  (hidden1): Linear(in_features=8, out_features=4, bias=True)\n",
      "  (act1): ReLU()\n",
      "  (output): Linear(in_features=4, out_features=1, bias=True)\n",
      "  (act_output): Sigmoid()\n",
      ")\n"
     ]
    }
   ],
   "source": [
    "class DiabetesClassifier(nn.Module):\n",
    "    def __init__(self) -> None:\n",
    "        super().__init__()\n",
    "        self.hidden1 = nn.Linear(8, 4)\n",
    "        self.act1 = nn.ReLU()\n",
    "        self.output = nn.Linear(4, 1)\n",
    "        self.act_output = nn.Sigmoid()\n",
    "    def forward(self, x):\n",
    "        x = self.act1(self.hidden1(x))\n",
    "        x = self.act_output(self.output(x))\n",
    "        return x\n",
    "\n",
    "model = DiabetesClassifier()\n",
    "print(model)"
   ]
  },
  {
   "cell_type": "markdown",
   "metadata": {},
   "source": [
    "## Loss and Optimizer"
   ]
  },
  {
   "cell_type": "code",
   "execution_count": 33,
   "metadata": {},
   "outputs": [],
   "source": [
    "loss_fn = nn.BCELoss()  # binary cross entropy\n",
    "optimizer = optim.Adam(model.parameters(), lr=0.001)"
   ]
  },
  {
   "cell_type": "markdown",
   "metadata": {},
   "source": [
    "## Training"
   ]
  },
  {
   "cell_type": "code",
   "execution_count": 34,
   "metadata": {},
   "outputs": [
    {
     "name": "stdout",
     "output_type": "stream",
     "text": [
      "Finished epoch 0, latest loss 1.7258367538452148\n",
      "Finished epoch 1, latest loss 1.2726655006408691\n",
      "Finished epoch 2, latest loss 0.7512059211730957\n",
      "Finished epoch 3, latest loss 0.5935401320457458\n",
      "Finished epoch 4, latest loss 0.5311040282249451\n",
      "Finished epoch 5, latest loss 0.5224899649620056\n",
      "Finished epoch 6, latest loss 0.5137693285942078\n",
      "Finished epoch 7, latest loss 0.5060229897499084\n",
      "Finished epoch 8, latest loss 0.4910108745098114\n",
      "Finished epoch 9, latest loss 0.4901670813560486\n",
      "Finished epoch 10, latest loss 0.4917377829551697\n",
      "Finished epoch 11, latest loss 0.4922412037849426\n",
      "Finished epoch 12, latest loss 0.4925665557384491\n",
      "Finished epoch 13, latest loss 0.49437588453292847\n",
      "Finished epoch 14, latest loss 0.49244004487991333\n",
      "Finished epoch 15, latest loss 0.493877649307251\n",
      "Finished epoch 16, latest loss 0.4957502484321594\n",
      "Finished epoch 17, latest loss 0.49515262246131897\n",
      "Finished epoch 18, latest loss 0.4965129792690277\n",
      "Finished epoch 19, latest loss 0.4975947141647339\n",
      "Finished epoch 20, latest loss 0.4991888999938965\n",
      "Finished epoch 21, latest loss 0.4994041323661804\n",
      "Finished epoch 22, latest loss 0.5007306337356567\n",
      "Finished epoch 23, latest loss 0.500720739364624\n",
      "Finished epoch 24, latest loss 0.5019826292991638\n",
      "Finished epoch 25, latest loss 0.5015652179718018\n",
      "Finished epoch 26, latest loss 0.5027936697006226\n",
      "Finished epoch 27, latest loss 0.5026737451553345\n",
      "Finished epoch 28, latest loss 0.5032614469528198\n",
      "Finished epoch 29, latest loss 0.5008495450019836\n",
      "Finished epoch 30, latest loss 0.4939039945602417\n",
      "Finished epoch 31, latest loss 0.496027410030365\n",
      "Finished epoch 32, latest loss 0.49426642060279846\n",
      "Finished epoch 33, latest loss 0.4890669584274292\n",
      "Finished epoch 34, latest loss 0.49017205834388733\n",
      "Finished epoch 35, latest loss 0.4877050518989563\n",
      "Finished epoch 36, latest loss 0.48045316338539124\n",
      "Finished epoch 37, latest loss 0.4854825437068939\n",
      "Finished epoch 38, latest loss 0.4751816391944885\n",
      "Finished epoch 39, latest loss 0.4802549183368683\n",
      "Finished epoch 40, latest loss 0.47104203701019287\n",
      "Finished epoch 41, latest loss 0.47809869050979614\n",
      "Finished epoch 42, latest loss 0.4672051966190338\n",
      "Finished epoch 43, latest loss 0.4710547924041748\n",
      "Finished epoch 44, latest loss 0.46650540828704834\n",
      "Finished epoch 45, latest loss 0.4639579951763153\n",
      "Finished epoch 46, latest loss 0.4624881148338318\n",
      "Finished epoch 47, latest loss 0.46606341004371643\n",
      "Finished epoch 48, latest loss 0.4677371382713318\n",
      "Finished epoch 49, latest loss 0.4800645112991333\n",
      "Finished epoch 50, latest loss 0.4590103328227997\n",
      "Finished epoch 51, latest loss 0.46311506628990173\n",
      "Finished epoch 52, latest loss 0.461463063955307\n",
      "Finished epoch 53, latest loss 0.45955970883369446\n",
      "Finished epoch 54, latest loss 0.4531678557395935\n",
      "Finished epoch 55, latest loss 0.4554455876350403\n",
      "Finished epoch 56, latest loss 0.44938814640045166\n",
      "Finished epoch 57, latest loss 0.45309802889823914\n",
      "Finished epoch 58, latest loss 0.4670043885707855\n",
      "Finished epoch 59, latest loss 0.4762633442878723\n",
      "Finished epoch 60, latest loss 0.47593772411346436\n",
      "Finished epoch 61, latest loss 0.4687099754810333\n",
      "Finished epoch 62, latest loss 0.4401918053627014\n",
      "Finished epoch 63, latest loss 0.4414840042591095\n",
      "Finished epoch 64, latest loss 0.47220268845558167\n",
      "Finished epoch 65, latest loss 0.4365618824958801\n",
      "Finished epoch 66, latest loss 0.45264917612075806\n",
      "Finished epoch 67, latest loss 0.45986929535865784\n",
      "Finished epoch 68, latest loss 0.45221349596977234\n",
      "Finished epoch 69, latest loss 0.43609485030174255\n",
      "Finished epoch 70, latest loss 0.45740458369255066\n",
      "Finished epoch 71, latest loss 0.4523506462574005\n",
      "Finished epoch 72, latest loss 0.427726149559021\n",
      "Finished epoch 73, latest loss 0.45539671182632446\n",
      "Finished epoch 74, latest loss 0.4205630123615265\n",
      "Finished epoch 75, latest loss 0.4520110487937927\n",
      "Finished epoch 76, latest loss 0.4142429232597351\n",
      "Finished epoch 77, latest loss 0.45253872871398926\n",
      "Finished epoch 78, latest loss 0.411841481924057\n",
      "Finished epoch 79, latest loss 0.41541334986686707\n",
      "Finished epoch 80, latest loss 0.4174222946166992\n",
      "Finished epoch 81, latest loss 0.41227203607559204\n",
      "Finished epoch 82, latest loss 0.41067105531692505\n",
      "Finished epoch 83, latest loss 0.40929874777793884\n",
      "Finished epoch 84, latest loss 0.4379158318042755\n",
      "Finished epoch 85, latest loss 0.40661609172821045\n",
      "Finished epoch 86, latest loss 0.43458423018455505\n",
      "Finished epoch 87, latest loss 0.4043819010257721\n",
      "Finished epoch 88, latest loss 0.39924436807632446\n",
      "Finished epoch 89, latest loss 0.4311875104904175\n",
      "Finished epoch 90, latest loss 0.3947846293449402\n",
      "Finished epoch 91, latest loss 0.42846840620040894\n",
      "Finished epoch 92, latest loss 0.39236965775489807\n",
      "Finished epoch 93, latest loss 0.42603394389152527\n",
      "Finished epoch 94, latest loss 0.39750540256500244\n",
      "Finished epoch 95, latest loss 0.39293429255485535\n",
      "Finished epoch 96, latest loss 0.3914736211299896\n",
      "Finished epoch 97, latest loss 0.390277236700058\n",
      "Finished epoch 98, latest loss 0.38920068740844727\n",
      "Finished epoch 99, latest loss 0.3881831467151642\n"
     ]
    }
   ],
   "source": [
    "n_epochs = 100\n",
    "batch_size = 10\n",
    " \n",
    "for epoch in range(n_epochs):\n",
    "    for i in range(0, len(X_train_tensor), batch_size):\n",
    "        Xbatch = X_train_tensor[i:i+batch_size]\n",
    "        y_pred = model(Xbatch)\n",
    "        ybatch = Y_train_tensor[i:i+batch_size]\n",
    "        loss = loss_fn(y_pred, ybatch)\n",
    "        optimizer.zero_grad()\n",
    "        loss.backward()\n",
    "        optimizer.step()\n",
    "    print(f'Finished epoch {epoch}, latest loss {loss}')"
   ]
  },
  {
   "cell_type": "markdown",
   "metadata": {},
   "source": [
    "## Model Evaluation based on accuracy"
   ]
  },
  {
   "cell_type": "code",
   "execution_count": 35,
   "metadata": {},
   "outputs": [
    {
     "name": "stdout",
     "output_type": "stream",
     "text": [
      "Accuracy 0.7442996501922607\n"
     ]
    }
   ],
   "source": [
    "# compute accuracy (no_grad is optional)\n",
    "with torch.no_grad():\n",
    "    y_pred = model(X_train_tensor)\n",
    "accuracy = (y_pred.round() == Y_train_tensor).float().mean()\n",
    "print(f\"Accuracy {accuracy}\")"
   ]
  },
  {
   "cell_type": "code",
   "execution_count": 36,
   "metadata": {},
   "outputs": [
    {
     "name": "stdout",
     "output_type": "stream",
     "text": [
      "Accuracy 0.7272727489471436\n"
     ]
    }
   ],
   "source": [
    "# compute accuracy (no_grad is optional)\n",
    "with torch.no_grad():\n",
    "    y_pred = model(X_test_tensor)\n",
    "accuracy = (y_pred.round() == Y_test_tensor).float().mean()\n",
    "print(f\"Accuracy {accuracy}\")"
   ]
  },
  {
   "cell_type": "code",
   "execution_count": 40,
   "metadata": {},
   "outputs": [
    {
     "name": "stdout",
     "output_type": "stream",
     "text": [
      "[[-0.91034909  1.5613241   0.1182354  -0.69542099  1.69949217 -0.59102734\n",
      "  -0.9780975  -0.20415675]]\n",
      "tensor([[0.1993]], grad_fn=<SigmoidBackward0>)\n",
      "The person is not diabetic\n"
     ]
    }
   ],
   "source": [
    "input_data = (5,166,72,19,175,25.8,0.587,51)\n",
    "\n",
    "# changing the input_data to numpy array\n",
    "input_data_as_numpy_array = np.asarray(input_data)\n",
    "\n",
    "# reshape the array as we are predicting for one instance\n",
    "input_data_reshaped = input_data_as_numpy_array.reshape(1,-1)\n",
    "\n",
    "# standardize the input data\n",
    "std_data = (input_data_reshaped - input_data_reshaped.mean())/input_data_reshaped.std()\n",
    "print(std_data)\n",
    "\n",
    "prediction = model(torch.tensor(std_data).float())\n",
    "print(prediction)\n",
    "\n",
    "if (prediction[0] <= .5):\n",
    "  print('The person is not diabetic')\n",
    "else:\n",
    "  print('The person is diabetic')"
   ]
  },
  {
   "cell_type": "code",
   "execution_count": null,
   "metadata": {},
   "outputs": [],
   "source": []
  }
 ],
 "metadata": {
  "kernelspec": {
   "display_name": "venv",
   "language": "python",
   "name": "python3"
  },
  "language_info": {
   "codemirror_mode": {
    "name": "ipython",
    "version": 3
   },
   "file_extension": ".py",
   "mimetype": "text/x-python",
   "name": "python",
   "nbconvert_exporter": "python",
   "pygments_lexer": "ipython3",
   "version": "3.11.8"
  }
 },
 "nbformat": 4,
 "nbformat_minor": 2
}
